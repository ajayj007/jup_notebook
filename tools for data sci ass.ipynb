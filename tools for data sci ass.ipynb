{
 "cells": [
  {
   "cell_type": "markdown",
   "id": "58826278",
   "metadata": {},
   "source": [
    "# Data Science Tools and Ecosystem "
   ]
  },
  {
   "cell_type": "code",
   "execution_count": 4,
   "id": "e43255b2",
   "metadata": {},
   "outputs": [
    {
     "name": "stdout",
     "output_type": "stream",
     "text": [
      "In this notebook, Data Science Tools and Ecosystem are summarized.\n"
     ]
    }
   ],
   "source": [
    "print(\"In this notebook, Data Science Tools and Ecosystem are summarized.\")\n"
   ]
  },
  {
   "cell_type": "markdown",
   "id": "e597cf14",
   "metadata": {},
   "source": [
    "## some popular languages that Data scientists use are :\n",
    "\n",
    "1.python\n",
    "2.R\n",
    "3.SQL\n",
    "4.SCALA\n"
   ]
  },
  {
   "cell_type": "markdown",
   "id": "d46c51e4",
   "metadata": {},
   "source": [
    "## some of the commonly used libraries used by Data Scientists include :\n",
    "\n",
    "1.Tensorflow.\n",
    "2.Numpy.\n",
    "3.Scipy.\n",
    "4.Matplotlib. "
   ]
  },
  {
   "cell_type": "markdown",
   "id": "aad946c8",
   "metadata": {},
   "source": [
    "## Data Science Tools :\n",
    "\n",
    "1. Apache spark\n",
    "2.Sas\n",
    "3.BigML"
   ]
  },
  {
   "cell_type": "markdown",
   "id": "b15f3423",
   "metadata": {},
   "source": [
    "# Arithmetic Operation :"
   ]
  },
  {
   "cell_type": "code",
   "execution_count": 6,
   "id": "cff37038",
   "metadata": {},
   "outputs": [
    {
     "name": "stdout",
     "output_type": "stream",
     "text": [
      "mul: 28\n"
     ]
    }
   ],
   "source": [
    "a = 4\n",
    "b = 7\n",
    "print('mul:', a * b)"
   ]
  },
  {
   "cell_type": "code",
   "execution_count": 7,
   "id": "9ee20206",
   "metadata": {},
   "outputs": [
    {
     "name": "stdout",
     "output_type": "stream",
     "text": [
      "17\n"
     ]
    }
   ],
   "source": [
    "print((3*4)+5)\n"
   ]
  },
  {
   "cell_type": "markdown",
   "id": "c15a0d9e",
   "metadata": {},
   "source": [
    "## min to hour\n"
   ]
  },
  {
   "cell_type": "code",
   "execution_count": 9,
   "id": "59a8e7fa",
   "metadata": {},
   "outputs": [
    {
     "name": "stdout",
     "output_type": "stream",
     "text": [
      "3.3333333333333335 hr\n"
     ]
    }
   ],
   "source": [
    "print( 200/60,'hr')"
   ]
  },
  {
   "cell_type": "markdown",
   "id": "90d5b111",
   "metadata": {},
   "source": [
    "# Objective :"
   ]
  },
  {
   "cell_type": "markdown",
   "id": "b17b0006",
   "metadata": {},
   "source": [
    "###  Jupyter Notebook is a web-based interactive computing environment that you can use for data analysis and collaborative coding. It allows the integration of code, text, and visualizations into a single document."
   ]
  },
  {
   "cell_type": "markdown",
   "id": "c8e5e758",
   "metadata": {},
   "source": [
    "# Author : \n",
    "#### Ajay Jadhav"
   ]
  },
  {
   "cell_type": "code",
   "execution_count": null,
   "id": "e9b6939f",
   "metadata": {},
   "outputs": [],
   "source": []
  }
 ],
 "metadata": {
  "kernelspec": {
   "display_name": "Python 3 (ipykernel)",
   "language": "python",
   "name": "python3"
  },
  "language_info": {
   "codemirror_mode": {
    "name": "ipython",
    "version": 3
   },
   "file_extension": ".py",
   "mimetype": "text/x-python",
   "name": "python",
   "nbconvert_exporter": "python",
   "pygments_lexer": "ipython3",
   "version": "3.11.2"
  }
 },
 "nbformat": 4,
 "nbformat_minor": 5
}
